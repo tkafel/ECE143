{
 "cells": [
  {
   "cell_type": "code",
   "execution_count": 2,
   "metadata": {},
   "outputs": [],
   "source": [
    "import pandas as pd\n",
    "import numpy as np\n",
    "import matplotlib.pyplot as plt"
   ]
  },
  {
   "cell_type": "markdown",
   "metadata": {},
   "source": [
    "## data preprocessing"
   ]
  },
  {
   "cell_type": "code",
   "execution_count": 250,
   "metadata": {},
   "outputs": [
    {
     "data": {
      "text/html": [
       "<div>\n",
       "<style scoped>\n",
       "    .dataframe tbody tr th:only-of-type {\n",
       "        vertical-align: middle;\n",
       "    }\n",
       "\n",
       "    .dataframe tbody tr th {\n",
       "        vertical-align: top;\n",
       "    }\n",
       "\n",
       "    .dataframe thead th {\n",
       "        text-align: right;\n",
       "    }\n",
       "</style>\n",
       "<table border=\"1\" class=\"dataframe\">\n",
       "  <thead>\n",
       "    <tr style=\"text-align: right;\">\n",
       "      <th></th>\n",
       "      <th>Instructor</th>\n",
       "      <th>course_num</th>\n",
       "      <th>course_name</th>\n",
       "    </tr>\n",
       "  </thead>\n",
       "  <tbody>\n",
       "    <tr>\n",
       "      <th>1776</th>\n",
       "      <td>Burkhard, Walter A.</td>\n",
       "      <td>CSE 100</td>\n",
       "      <td>Advanced Data Structures</td>\n",
       "    </tr>\n",
       "    <tr>\n",
       "      <th>3537</th>\n",
       "      <td>Alvarado, Christine J.</td>\n",
       "      <td>CSE 100</td>\n",
       "      <td>Advanced Data Structures</td>\n",
       "    </tr>\n",
       "    <tr>\n",
       "      <th>3527</th>\n",
       "      <td>Kube, Paul Richard</td>\n",
       "      <td>CSE 100</td>\n",
       "      <td>Advanced Data Structures</td>\n",
       "    </tr>\n",
       "    <tr>\n",
       "      <th>3514</th>\n",
       "      <td>Kube, Paul Richard</td>\n",
       "      <td>CSE 100</td>\n",
       "      <td>Advanced Data Structures</td>\n",
       "    </tr>\n",
       "    <tr>\n",
       "      <th>3513</th>\n",
       "      <td>Baden, Scott B.</td>\n",
       "      <td>CSE 100</td>\n",
       "      <td>Advanced Data Structures</td>\n",
       "    </tr>\n",
       "    <tr>\n",
       "      <th>4279</th>\n",
       "      <td>Alvarado, Christine J.</td>\n",
       "      <td>CSE 100</td>\n",
       "      <td>Advanced Data Structures</td>\n",
       "    </tr>\n",
       "    <tr>\n",
       "      <th>4283</th>\n",
       "      <td>Porter, Leonard Emerson</td>\n",
       "      <td>CSE 100</td>\n",
       "      <td>Advanced Data Structures</td>\n",
       "    </tr>\n",
       "    <tr>\n",
       "      <th>4159</th>\n",
       "      <td>Cao, Yingjun</td>\n",
       "      <td>CSE 100</td>\n",
       "      <td>Advanced Data Structures</td>\n",
       "    </tr>\n",
       "    <tr>\n",
       "      <th>3443</th>\n",
       "      <td>Bandeira, Nuno Filipe Cabrita</td>\n",
       "      <td>CSE 100</td>\n",
       "      <td>Advanced Data Structures</td>\n",
       "    </tr>\n",
       "    <tr>\n",
       "      <th>4325</th>\n",
       "      <td>Kube, Paul Richard</td>\n",
       "      <td>CSE 100</td>\n",
       "      <td>Advanced Data Structures</td>\n",
       "    </tr>\n",
       "    <tr>\n",
       "      <th>1208</th>\n",
       "      <td>Cao, Yingjun</td>\n",
       "      <td>CSE 100</td>\n",
       "      <td>Advanced Data Structures</td>\n",
       "    </tr>\n",
       "    <tr>\n",
       "      <th>3378</th>\n",
       "      <td>Mirza, Diba</td>\n",
       "      <td>CSE 100</td>\n",
       "      <td>Advanced Data Structures</td>\n",
       "    </tr>\n",
       "    <tr>\n",
       "      <th>4336</th>\n",
       "      <td>Alvarado, Christine J.</td>\n",
       "      <td>CSE 100</td>\n",
       "      <td>Advanced Data Structures</td>\n",
       "    </tr>\n",
       "    <tr>\n",
       "      <th>4338</th>\n",
       "      <td>Alvarado, Christine J.</td>\n",
       "      <td>CSE 100</td>\n",
       "      <td>Advanced Data Structures</td>\n",
       "    </tr>\n",
       "    <tr>\n",
       "      <th>3377</th>\n",
       "      <td>Burkhard, Walter A.</td>\n",
       "      <td>CSE 100</td>\n",
       "      <td>Advanced Data Structures</td>\n",
       "    </tr>\n",
       "    <tr>\n",
       "      <th>3349</th>\n",
       "      <td>Sahoo, Debashis</td>\n",
       "      <td>CSE 100</td>\n",
       "      <td>Advanced Data Structures</td>\n",
       "    </tr>\n",
       "    <tr>\n",
       "      <th>4349</th>\n",
       "      <td>Kube, Paul Richard</td>\n",
       "      <td>CSE 100</td>\n",
       "      <td>Advanced Data Structures</td>\n",
       "    </tr>\n",
       "    <tr>\n",
       "      <th>3343</th>\n",
       "      <td>Alvarado, Christine J.</td>\n",
       "      <td>CSE 100</td>\n",
       "      <td>Advanced Data Structures</td>\n",
       "    </tr>\n",
       "    <tr>\n",
       "      <th>3538</th>\n",
       "      <td>Sahoo, Debashis</td>\n",
       "      <td>CSE 100</td>\n",
       "      <td>Advanced Data Structures</td>\n",
       "    </tr>\n",
       "    <tr>\n",
       "      <th>3557</th>\n",
       "      <td>Nguyen, Hau Cao</td>\n",
       "      <td>CSE 100</td>\n",
       "      <td>Advanced Data Structures</td>\n",
       "    </tr>\n",
       "  </tbody>\n",
       "</table>\n",
       "</div>"
      ],
      "text/plain": [
       "                         Instructor course_num                 course_name\n",
       "1776            Burkhard, Walter A.   CSE 100    Advanced Data Structures \n",
       "3537         Alvarado, Christine J.   CSE 100    Advanced Data Structures \n",
       "3527             Kube, Paul Richard   CSE 100    Advanced Data Structures \n",
       "3514             Kube, Paul Richard   CSE 100    Advanced Data Structures \n",
       "3513                Baden, Scott B.   CSE 100    Advanced Data Structures \n",
       "4279         Alvarado, Christine J.   CSE 100    Advanced Data Structures \n",
       "4283        Porter, Leonard Emerson   CSE 100    Advanced Data Structures \n",
       "4159                   Cao, Yingjun   CSE 100    Advanced Data Structures \n",
       "3443  Bandeira, Nuno Filipe Cabrita   CSE 100    Advanced Data Structures \n",
       "4325             Kube, Paul Richard   CSE 100    Advanced Data Structures \n",
       "1208                   Cao, Yingjun   CSE 100    Advanced Data Structures \n",
       "3378                    Mirza, Diba   CSE 100    Advanced Data Structures \n",
       "4336         Alvarado, Christine J.   CSE 100    Advanced Data Structures \n",
       "4338         Alvarado, Christine J.   CSE 100    Advanced Data Structures \n",
       "3377            Burkhard, Walter A.   CSE 100    Advanced Data Structures \n",
       "3349                Sahoo, Debashis   CSE 100    Advanced Data Structures \n",
       "4349             Kube, Paul Richard   CSE 100    Advanced Data Structures \n",
       "3343         Alvarado, Christine J.   CSE 100    Advanced Data Structures \n",
       "3538                Sahoo, Debashis   CSE 100    Advanced Data Structures \n",
       "3557                Nguyen, Hau Cao   CSE 100    Advanced Data Structures "
      ]
     },
     "execution_count": 250,
     "metadata": {},
     "output_type": "execute_result"
    }
   ],
   "source": [
    "data = pd.read_csv('Enroll_Sort.csv')\n",
    "data = data.dropna(axis=0)  # drop NaN\n",
    "data.drop(data.tail(1).index,inplace=True)  # drop last column, which is the same as title, we don't need two\n",
    "data[\"Enroll\"] = pd.to_numeric(data[\"Enroll\"])  # change enroll into the numeric\n",
    "data[\"Evals_Made\"] = pd.to_numeric(data[\"Evals_Made\"])  # change evals_made into the numeric\n",
    "data[\"Rcmnd_Class\"] = pd.to_numeric(data[\"Rcmnd_Class\"].str.split('%', expand=True)[0]).div(100)  # change recommended class into the numeric\n",
    "data[\"Rcmnd_Instr\"] = pd.to_numeric(data[\"Rcmnd_Instr\"].str.split('%', expand=True)[0]).div(100)  # change recommended Instr into the numeric\n",
    "data[\"Study_Hrs_wk\"] = pd.to_numeric(data[\"Study_Hrs_wk\"])  # change hour study into the numeric\n",
    "data['Avg_Grade_Expected'] = pd.to_numeric(data['Avg_Grade_Expected'].str.split('[(|)]', expand=True)[1])  # change avg grade expected into the numeric\n",
    "data['Avg_Grade_Received'] = pd.to_numeric(data['Avg_Grade_Received'].str.split('[(|)]', expand=True)[1])  # change avg grade received into the numeric\n",
    "# split course description into course number and name\n",
    "course_split = data['Course'].str.split('-', n=1, expand=True)\n",
    "data['course_num'] = course_split[0]\n",
    "data['course_name'] = course_split[1].str.split('[(|)]', expand=True)[0]\n",
    "# find same course and combine\n",
    "find_same_course = data[['Instructor','course_num','course_name']].copy().sort_values(by=['course_num'])\n",
    "find_same_course.head(20)\n"
   ]
  },
  {
   "cell_type": "code",
   "execution_count": 275,
   "metadata": {},
   "outputs": [
    {
     "data": {
      "text/html": [
       "<div>\n",
       "<style scoped>\n",
       "    .dataframe tbody tr th:only-of-type {\n",
       "        vertical-align: middle;\n",
       "    }\n",
       "\n",
       "    .dataframe tbody tr th {\n",
       "        vertical-align: top;\n",
       "    }\n",
       "\n",
       "    .dataframe thead th {\n",
       "        text-align: right;\n",
       "    }\n",
       "</style>\n",
       "<table border=\"1\" class=\"dataframe\">\n",
       "  <thead>\n",
       "    <tr style=\"text-align: right;\">\n",
       "      <th></th>\n",
       "      <th>Instructor</th>\n",
       "      <th>Course</th>\n",
       "      <th>Term</th>\n",
       "      <th>Enroll</th>\n",
       "      <th>Evals_Made</th>\n",
       "      <th>Rcmnd_Class</th>\n",
       "      <th>Rcmnd_Instr</th>\n",
       "      <th>Study_Hrs_wk</th>\n",
       "      <th>Avg_Grade_Expected</th>\n",
       "      <th>Avg_Grade_Received</th>\n",
       "      <th>course_num</th>\n",
       "      <th>course_name</th>\n",
       "      <th>expect_gpa</th>\n",
       "      <th>receive_gpa</th>\n",
       "      <th>department</th>\n",
       "    </tr>\n",
       "  </thead>\n",
       "  <tbody>\n",
       "    <tr>\n",
       "      <th>0</th>\n",
       "      <td>Shacham, Hovav</td>\n",
       "      <td>CSE 127 - Intro/Computer Security (A)</td>\n",
       "      <td>WI08</td>\n",
       "      <td>3</td>\n",
       "      <td>5</td>\n",
       "      <td>100.00%</td>\n",
       "      <td>100.00%</td>\n",
       "      <td>10.5</td>\n",
       "      <td>B (3.00)</td>\n",
       "      <td>NaN</td>\n",
       "      <td>CSE127</td>\n",
       "      <td>Intro/Computer Security (A)</td>\n",
       "      <td>3.00</td>\n",
       "      <td>NaN</td>\n",
       "      <td>CSE</td>\n",
       "    </tr>\n",
       "    <tr>\n",
       "      <th>1</th>\n",
       "      <td>Asbeck, Peter Michael</td>\n",
       "      <td>ECE 139 - SemicndctorDeviceModelng/Desgn (A)</td>\n",
       "      <td>SP08</td>\n",
       "      <td>3</td>\n",
       "      <td>3</td>\n",
       "      <td>100.00%</td>\n",
       "      <td>100.00%</td>\n",
       "      <td>7.17</td>\n",
       "      <td>A (4.00)</td>\n",
       "      <td>NaN</td>\n",
       "      <td>ECE139</td>\n",
       "      <td>SemicndctorDeviceModelng/Desgn (A)</td>\n",
       "      <td>4.00</td>\n",
       "      <td>NaN</td>\n",
       "      <td>ECE</td>\n",
       "    </tr>\n",
       "    <tr>\n",
       "      <th>2</th>\n",
       "      <td>LIU, ZHAOWEI</td>\n",
       "      <td>ECE 185 - Lasers and Modulators (A)</td>\n",
       "      <td>SP09</td>\n",
       "      <td>3</td>\n",
       "      <td>3</td>\n",
       "      <td>100.00%</td>\n",
       "      <td>100.00%</td>\n",
       "      <td>3.83</td>\n",
       "      <td>B (3.00)</td>\n",
       "      <td>NaN</td>\n",
       "      <td>ECE185</td>\n",
       "      <td>Lasers and Modulators (A)</td>\n",
       "      <td>3.00</td>\n",
       "      <td>NaN</td>\n",
       "      <td>ECE</td>\n",
       "    </tr>\n",
       "    <tr>\n",
       "      <th>3</th>\n",
       "      <td>Wang, Wei</td>\n",
       "      <td>CSE 184 - Computational Molecular Biol. (A)</td>\n",
       "      <td>WI09</td>\n",
       "      <td>4</td>\n",
       "      <td>8</td>\n",
       "      <td>100.00%</td>\n",
       "      <td>100.00%</td>\n",
       "      <td>11</td>\n",
       "      <td>A- (3.75)</td>\n",
       "      <td>NaN</td>\n",
       "      <td>CSE184</td>\n",
       "      <td>Computational Molecular Biol. (A)</td>\n",
       "      <td>3.75</td>\n",
       "      <td>NaN</td>\n",
       "      <td>CSE</td>\n",
       "    </tr>\n",
       "    <tr>\n",
       "      <th>4</th>\n",
       "      <td>Kleint, John Timothy</td>\n",
       "      <td>CSE 30 - Computer Organiz&amp;Systms Progrm (A)</td>\n",
       "      <td>SU07</td>\n",
       "      <td>4</td>\n",
       "      <td>5</td>\n",
       "      <td>100.00%</td>\n",
       "      <td>100.00%</td>\n",
       "      <td>12.9</td>\n",
       "      <td>B+ (3.40)</td>\n",
       "      <td>NaN</td>\n",
       "      <td>CSE30</td>\n",
       "      <td>Computer Organiz&amp;Systms Progrm (A)</td>\n",
       "      <td>3.40</td>\n",
       "      <td>NaN</td>\n",
       "      <td>CSE</td>\n",
       "    </tr>\n",
       "    <tr>\n",
       "      <th>5</th>\n",
       "      <td>Lo, Yu-Hwa</td>\n",
       "      <td>ECE 135B - Electronic Devices (A)</td>\n",
       "      <td>SP08</td>\n",
       "      <td>4</td>\n",
       "      <td>4</td>\n",
       "      <td>100.00%</td>\n",
       "      <td>100.00%</td>\n",
       "      <td>8</td>\n",
       "      <td>B+ (3.50)</td>\n",
       "      <td>NaN</td>\n",
       "      <td>ECE135B</td>\n",
       "      <td>Electronic Devices (A)</td>\n",
       "      <td>3.50</td>\n",
       "      <td>NaN</td>\n",
       "      <td>ECE</td>\n",
       "    </tr>\n",
       "    <tr>\n",
       "      <th>6</th>\n",
       "      <td>Lau, Silvanus S</td>\n",
       "      <td>ECE 136L - Microelectronics Laboratory (A)</td>\n",
       "      <td>FA10</td>\n",
       "      <td>4</td>\n",
       "      <td>4</td>\n",
       "      <td>100.00%</td>\n",
       "      <td>100.00%</td>\n",
       "      <td>11</td>\n",
       "      <td>B (3.25)</td>\n",
       "      <td>NaN</td>\n",
       "      <td>ECE136L</td>\n",
       "      <td>Microelectronics Laboratory (A)</td>\n",
       "      <td>3.25</td>\n",
       "      <td>NaN</td>\n",
       "      <td>ECE</td>\n",
       "    </tr>\n",
       "    <tr>\n",
       "      <th>7</th>\n",
       "      <td>Hildebrand, John A</td>\n",
       "      <td>ECE 145CL - Acoustics Laboratory (A)</td>\n",
       "      <td>SP09</td>\n",
       "      <td>4</td>\n",
       "      <td>3</td>\n",
       "      <td>100.00%</td>\n",
       "      <td>100.00%</td>\n",
       "      <td>4.5</td>\n",
       "      <td>B+ (3.33)</td>\n",
       "      <td>NaN</td>\n",
       "      <td>ECE145CL</td>\n",
       "      <td>Acoustics Laboratory (A)</td>\n",
       "      <td>3.33</td>\n",
       "      <td>NaN</td>\n",
       "      <td>ECE</td>\n",
       "    </tr>\n",
       "    <tr>\n",
       "      <th>8</th>\n",
       "      <td>Fullerton, Eric E</td>\n",
       "      <td>ECE 146 - Introductn/Magnetic Recording (A)</td>\n",
       "      <td>FA09</td>\n",
       "      <td>4</td>\n",
       "      <td>3</td>\n",
       "      <td>100.00%</td>\n",
       "      <td>100.00%</td>\n",
       "      <td>5.83</td>\n",
       "      <td>B (3.00)</td>\n",
       "      <td>NaN</td>\n",
       "      <td>ECE146</td>\n",
       "      <td>Introductn/Magnetic Recording (A)</td>\n",
       "      <td>3.00</td>\n",
       "      <td>NaN</td>\n",
       "      <td>ECE</td>\n",
       "    </tr>\n",
       "    <tr>\n",
       "      <th>9</th>\n",
       "      <td>Wolf, Jack K</td>\n",
       "      <td>ECE 155A - Digital Recording Systems (A)</td>\n",
       "      <td>FA09</td>\n",
       "      <td>4</td>\n",
       "      <td>4</td>\n",
       "      <td>75.00%</td>\n",
       "      <td>100.00%</td>\n",
       "      <td>5.5</td>\n",
       "      <td>A- (3.75)</td>\n",
       "      <td>NaN</td>\n",
       "      <td>ECE155A</td>\n",
       "      <td>Digital Recording Systems (A)</td>\n",
       "      <td>3.75</td>\n",
       "      <td>NaN</td>\n",
       "      <td>ECE</td>\n",
       "    </tr>\n",
       "  </tbody>\n",
       "</table>\n",
       "</div>"
      ],
      "text/plain": [
       "              Instructor                                        Course  Term  \\\n",
       "0         Shacham, Hovav         CSE 127 - Intro/Computer Security (A)  WI08   \n",
       "1  Asbeck, Peter Michael  ECE 139 - SemicndctorDeviceModelng/Desgn (A)  SP08   \n",
       "2           LIU, ZHAOWEI           ECE 185 - Lasers and Modulators (A)  SP09   \n",
       "3              Wang, Wei   CSE 184 - Computational Molecular Biol. (A)  WI09   \n",
       "4   Kleint, John Timothy   CSE 30 - Computer Organiz&Systms Progrm (A)  SU07   \n",
       "5             Lo, Yu-Hwa             ECE 135B - Electronic Devices (A)  SP08   \n",
       "6        Lau, Silvanus S    ECE 136L - Microelectronics Laboratory (A)  FA10   \n",
       "7     Hildebrand, John A          ECE 145CL - Acoustics Laboratory (A)  SP09   \n",
       "8      Fullerton, Eric E   ECE 146 - Introductn/Magnetic Recording (A)  FA09   \n",
       "9           Wolf, Jack K      ECE 155A - Digital Recording Systems (A)  FA09   \n",
       "\n",
       "  Enroll Evals_Made Rcmnd_Class Rcmnd_Instr Study_Hrs_wk Avg_Grade_Expected  \\\n",
       "0      3          5     100.00%     100.00%         10.5           B (3.00)   \n",
       "1      3          3     100.00%     100.00%         7.17           A (4.00)   \n",
       "2      3          3     100.00%     100.00%         3.83           B (3.00)   \n",
       "3      4          8     100.00%     100.00%           11          A- (3.75)   \n",
       "4      4          5     100.00%     100.00%         12.9          B+ (3.40)   \n",
       "5      4          4     100.00%     100.00%            8          B+ (3.50)   \n",
       "6      4          4     100.00%     100.00%           11           B (3.25)   \n",
       "7      4          3     100.00%     100.00%          4.5          B+ (3.33)   \n",
       "8      4          3     100.00%     100.00%         5.83           B (3.00)   \n",
       "9      4          4      75.00%     100.00%          5.5          A- (3.75)   \n",
       "\n",
       "  Avg_Grade_Received course_num                          course_name  \\\n",
       "0                NaN     CSE127          Intro/Computer Security (A)   \n",
       "1                NaN     ECE139   SemicndctorDeviceModelng/Desgn (A)   \n",
       "2                NaN     ECE185            Lasers and Modulators (A)   \n",
       "3                NaN     CSE184    Computational Molecular Biol. (A)   \n",
       "4                NaN      CSE30   Computer Organiz&Systms Progrm (A)   \n",
       "5                NaN    ECE135B               Electronic Devices (A)   \n",
       "6                NaN    ECE136L      Microelectronics Laboratory (A)   \n",
       "7                NaN   ECE145CL             Acoustics Laboratory (A)   \n",
       "8                NaN     ECE146    Introductn/Magnetic Recording (A)   \n",
       "9                NaN    ECE155A        Digital Recording Systems (A)   \n",
       "\n",
       "  expect_gpa receive_gpa department  \n",
       "0       3.00         NaN        CSE  \n",
       "1       4.00         NaN        ECE  \n",
       "2       3.00         NaN        ECE  \n",
       "3       3.75         NaN        CSE  \n",
       "4       3.40         NaN        CSE  \n",
       "5       3.50         NaN        ECE  \n",
       "6       3.25         NaN        ECE  \n",
       "7       3.33         NaN        ECE  \n",
       "8       3.00         NaN        ECE  \n",
       "9       3.75         NaN        ECE  "
      ]
     },
     "execution_count": 275,
     "metadata": {},
     "output_type": "execute_result"
    }
   ],
   "source": [
    "data = pd.read_csv('Enroll_Sort.csv')\n",
    "course_split = data['Course'].str.split('-', n=1, expand=True)\n",
    "expect_gpa_split = data['Avg_Grade_Expected'].str.split('[(|)]', expand=True)\n",
    "receive_gpa_split = data['Avg_Grade_Received'].str.split('[(|)]', expand=True)\n",
    "data['course_num'] = course_split[0].str.split(\" \").str.join(\"\")\n",
    "data['course_name'] = course_split[1]\n",
    "data['expect_gpa'] = expect_gpa_split[1]\n",
    "data['receive_gpa'] = receive_gpa_split[1]\n",
    "dep = course_split[0].str.split(' ', n=1, expand=True)\n",
    "data['department'] = dep[0]\n",
    "\n",
    "\n",
    "data.head(10)"
   ]
  },
  {
   "cell_type": "markdown",
   "metadata": {},
   "source": [
    "Split by department"
   ]
  },
  {
   "cell_type": "code",
   "execution_count": 276,
   "metadata": {},
   "outputs": [],
   "source": [
    "ece = data.loc[data['department'] == 'ECE']\n",
    "cse = data.loc[data['department'] == 'CSE']\n",
    "mae = data.loc[data['department'] == 'MAE']"
   ]
  },
  {
   "cell_type": "code",
   "execution_count": 189,
   "metadata": {},
   "outputs": [
    {
     "name": "stdout",
     "output_type": "stream",
     "text": [
      "66825\n"
     ]
    }
   ],
   "source": [
    "tmp = data.size\n",
    "print(tmp)"
   ]
  },
  {
   "cell_type": "code",
   "execution_count": 190,
   "metadata": {},
   "outputs": [],
   "source": [
    "data = data.dropna(axis=0)"
   ]
  },
  {
   "cell_type": "code",
   "execution_count": 191,
   "metadata": {},
   "outputs": [
    {
     "data": {
      "text/plain": [
       "53925"
      ]
     },
     "execution_count": 191,
     "metadata": {},
     "output_type": "execute_result"
    }
   ],
   "source": [
    "data.size"
   ]
  },
  {
   "cell_type": "markdown",
   "metadata": {},
   "source": [
    "### people enroll"
   ]
  },
  {
   "cell_type": "markdown",
   "metadata": {},
   "source": [
    "#### ECE"
   ]
  },
  {
   "cell_type": "code",
   "execution_count": 5,
   "metadata": {},
   "outputs": [
    {
     "data": {
      "text/plain": [
       "Text(0.5, 1.0, 'ECE top enroll courses')"
      ]
     },
     "execution_count": 5,
     "metadata": {},
     "output_type": "execute_result"
    },
    {
     "data": {
      "image/png": "[encoded data removed]",
      "text/plain": [
       "<Figure size 720x360 with 1 Axes>"
      ]
     },
     "metadata": {
      "needs_background": "light"
     },
     "output_type": "display_data"
    }
   ],
   "source": [
    "popular_class = ece.loc[ece['Enroll'].astype(int) > 200]\n",
    "x = popular_class['course_num'].values.tolist()\n",
    "h = popular_class['Enroll'].astype(int).values.tolist()\n",
    "#print(popular_class)\n",
    "plt.figure(figsize=(10,5))\n",
    "plt.bar(x,h)\n",
    "plt.xlabel('course number')\n",
    "plt.ylabel('enroll number')\n",
    "plt.title(\"ECE top enroll courses\")"
   ]
  },
  {
   "cell_type": "markdown",
   "metadata": {},
   "source": [
    "#### CSE"
   ]
  },
  {
   "cell_type": "code",
   "execution_count": 11,
   "metadata": {},
   "outputs": [
    {
     "data": {
      "text/plain": [
       "Text(0.5, 1.0, 'CSE top enroll courses')"
      ]
     },
     "execution_count": 11,
     "metadata": {},
     "output_type": "execute_result"
    },
    {
     "data": {
      "image/png": "[encoded data removed]",
      "text/plain": [
       "<Figure size 1440x504 with 1 Axes>"
      ]
     },
     "metadata": {
      "needs_background": "light"
     },
     "output_type": "display_data"
    }
   ],
   "source": [
    "popular_class = cse.loc[cse['Enroll'].astype(int) > 250]\n",
    "x = popular_class['course_num'].values.tolist()\n",
    "h = popular_class['Enroll'].astype(int).values.tolist()\n",
    "#print(popular_class)\n",
    "plt.figure(figsize=(20,7))\n",
    "plt.bar(x,h)\n",
    "plt.xlabel('course number')\n",
    "plt.ylabel('enroll number')\n",
    "plt.title(\"CSE top enroll courses\")"
   ]
  },
  {
   "cell_type": "code",
   "execution_count": 12,
   "metadata": {},
   "outputs": [
    {
     "data": {
      "text/plain": [
       "Text(0.5, 1.0, 'CSE top enroll courses')"
      ]
     },
     "execution_count": 12,
     "metadata": {},
     "output_type": "execute_result"
    },
    {
     "data": {
      "image/png": "[encoded data removed]",
      "text/plain": [
       "<Figure size 1440x504 with 1 Axes>"
      ]
     },
     "metadata": {
      "needs_background": "light"
     },
     "output_type": "display_data"
    }
   ],
   "source": [
    "popular_class = mae.loc[mae['Enroll'].astype(int) > 250]\n",
    "x = popular_class['course_num'].values.tolist()\n",
    "h = popular_class['Enroll'].astype(int).values.tolist()\n",
    "#print(popular_class)\n",
    "plt.figure(figsize=(20,7))\n",
    "plt.bar(x,h)\n",
    "plt.xlabel('course number')\n",
    "plt.ylabel('enroll number')\n",
    "plt.title(\"CSE top enroll courses\")"
   ]
  },
  {
   "cell_type": "code",
   "execution_count": 129,
   "metadata": {},
   "outputs": [
    {
     "data": {
      "image/png": "[encoded data removed]",
      "text/plain": [
       "<Figure size 720x360 with 1 Axes>"
      ]
     },
     "metadata": {
      "needs_background": "light"
     },
     "output_type": "display_data"
    }
   ],
   "source": [
    "term_count = ece.groupby('Term', as_index=False)['Course'].count()\n",
    "term_count = term_count.rename(columns={\"Course\":\"count\"})\n",
    "ece_fall = term_count.loc[term_count['Term'].str.startswith('FA')].values\n",
    "ece_winter = term_count.loc[term_count['Term'].str.startswith('WI')].values\n",
    "ece_spring = term_count.loc[term_count['Term'].str.startswith('SP')].values\n",
    "school_year = [i for i in range(2007,2019)]\n",
    "plt.figure(figsize=(10,5))\n",
    "plt.plot(school_year,ece_fall[:,1],'-bo',label='fall')\n",
    "plt.plot(school_year,ece_winter[:,1],'-ro',label='winter')\n",
    "plt.plot(school_year,ece_spring[:,1],'-go',label='spring')\n",
    "plt.title('ECE fall course over the year')\n",
    "plt.xlabel('school year')\n",
    "plt.ylabel('courses number')\n",
    "plt.legend()\n",
    "plt.show()"
   ]
  },
  {
   "cell_type": "markdown",
   "metadata": {},
   "source": [
    "study hour mean"
   ]
  },
  {
   "cell_type": "code",
   "execution_count": 192,
   "metadata": {},
   "outputs": [
    {
     "name": "stdout",
     "output_type": "stream",
     "text": [
      "<class 'pandas.core.groupby.groupby.DataFrameGroupBy'>\n"
     ]
    }
   ],
   "source": [
    "ece_study_hour = ece.groupby('course_num', as_index=False)['Study_Hrs_wk']\n",
    "#ece_study_hour.astype({'Study_Hrs_wk': 'float64'})\n",
    "print(type(ece_study_hour))\n"
   ]
  },
  {
   "cell_type": "code",
   "execution_count": 280,
   "metadata": {},
   "outputs": [
    {
     "name": "stdout",
     "output_type": "stream",
     "text": [
      "                  Instructor                                  Course  Term  \\\n",
      "3343  Alvarado, Christine J.  CSE 100 - Advanced Data Structures (B)  FA16   \n",
      "3537  Alvarado, Christine J.  CSE 100 - Advanced Data Structures (B)  WI16   \n",
      "3618  Alvarado, Christine J.  CSE 100 - Advanced Data Structures (B)  WI19   \n",
      "4191  Alvarado, Christine J.  CSE 100 - Advanced Data Structures (A)  SP16   \n",
      "4202  Alvarado, Christine J.  CSE 100 - Advanced Data Structures (A)  FA16   \n",
      "4213  Alvarado, Christine J.  CSE 100 - Advanced Data Structures (B)  SP16   \n",
      "4229  Alvarado, Christine J.  CSE 100 - Advanced Data Structures (B)  WI15   \n",
      "4279  Alvarado, Christine J.  CSE 100 - Advanced Data Structures (A)  FA13   \n",
      "4336  Alvarado, Christine J.  CSE 100 - Advanced Data Structures (A)  WI17   \n",
      "4338  Alvarado, Christine J.  CSE 100 - Advanced Data Structures (B)  WI17   \n",
      "4402  Alvarado, Christine J.  CSE 100 - Advanced Data Structures (A)  WI19   \n",
      "4416  Alvarado, Christine J.  CSE 100 - Advanced Data Structures (C)  WI16   \n",
      "\n",
      "     Enroll Evals_Made Rcmnd_Class Rcmnd_Instr Study_Hrs_wk  \\\n",
      "3343    128        117      98.30%      96.60%        11.08   \n",
      "3537    141        129      96.80%      96.00%        11.32   \n",
      "3618    146        134      97.70%      99.20%        10.52   \n",
      "4191    192        165      92.10%      86.60%        10.79   \n",
      "4202    193        175      96.50%      96.50%        11.84   \n",
      "4213    194        160      97.50%      97.50%        11.34   \n",
      "4229    196        139      96.40%      94.90%         12.5   \n",
      "4279    205        161      98.10%      93.50%         9.87   \n",
      "4336    224        186      95.70%      97.80%         11.7   \n",
      "4338    225        199      94.40%      96.00%        13.13   \n",
      "4402    274        260      97.30%      99.60%        11.41   \n",
      "4416    283        235      95.70%      94.90%        10.42   \n",
      "\n",
      "     Avg_Grade_Expected Avg_Grade_Received course_num  \\\n",
      "3343          B+ (3.48)           B (3.19)     CSE100   \n",
      "3537          B+ (3.31)          B- (2.89)     CSE100   \n",
      "3618          B+ (3.35)           B (3.05)     CSE100   \n",
      "4191           B (3.23)          B- (2.70)     CSE100   \n",
      "4202          B+ (3.54)           B (3.19)     CSE100   \n",
      "4213           B (3.10)          B- (2.70)     CSE100   \n",
      "4229           B (3.14)          C+ (2.51)     CSE100   \n",
      "4279          B+ (3.34)          C+ (2.64)     CSE100   \n",
      "4336          B+ (3.44)          B- (2.86)     CSE100   \n",
      "4338           B (3.29)          B- (2.86)     CSE100   \n",
      "4402           B (3.28)           B (3.05)     CSE100   \n",
      "4416          B+ (3.39)          B- (2.89)     CSE100   \n",
      "\n",
      "                        course_name expect_gpa receive_gpa department  \n",
      "3343   Advanced Data Structures (B)       3.48        3.19        CSE  \n",
      "3537   Advanced Data Structures (B)       3.31        2.89        CSE  \n",
      "3618   Advanced Data Structures (B)       3.35        3.05        CSE  \n",
      "4191   Advanced Data Structures (A)       3.23        2.70        CSE  \n",
      "4202   Advanced Data Structures (A)       3.54        3.19        CSE  \n",
      "4213   Advanced Data Structures (B)       3.10        2.70        CSE  \n",
      "4229   Advanced Data Structures (B)       3.14        2.51        CSE  \n",
      "4279   Advanced Data Structures (A)       3.34        2.64        CSE  \n",
      "4336   Advanced Data Structures (A)       3.44        2.86        CSE  \n",
      "4338   Advanced Data Structures (B)       3.29        2.86        CSE  \n",
      "4402   Advanced Data Structures (A)       3.28        3.05        CSE  \n",
      "4416   Advanced Data Structures (C)       3.39        2.89        CSE  \n"
     ]
    }
   ],
   "source": [
    "cse_100 = cse.loc[cse['Instructor'] == 'Alvarado, Christine J.']\n",
    "cse_100 = cse_100.loc[cse['course_num'] == 'CSE100']\n",
    "print(cse_100)\n",
    "#print('CSE 100')\n",
    "            "
   ]
  }
 ],
 "metadata": {
  "kernelspec": {
   "display_name": "Python 3",
   "language": "python",
   "name": "python3"
  },
  "language_info": {
   "codemirror_mode": {
    "name": "ipython",
    "version": 3
   },
   "file_extension": ".py",
   "mimetype": "text/x-python",
   "name": "python",
   "nbconvert_exporter": "python",
   "pygments_lexer": "ipython3",
   "version": "3.7.1"
  }
 },
 "nbformat": 4,
 "nbformat_minor": 2
}
